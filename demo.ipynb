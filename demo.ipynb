{
 "cells": [
  {
   "cell_type": "code",
   "execution_count": 1,
   "metadata": {},
   "outputs": [
    {
     "name": "stderr",
     "output_type": "stream",
     "text": [
      "c:\\Users\\jgpg000.edu\\AppData\\Local\\anaconda3\\envs\\management\\lib\\site-packages\\tqdm\\auto.py:21: TqdmWarning: IProgress not found. Please update jupyter and ipywidgets. See https://ipywidgets.readthedocs.io/en/stable/user_install.html\n",
      "  from .autonotebook import tqdm as notebook_tqdm\n"
     ]
    }
   ],
   "source": [
    "path_root = r\"C:/Users/jgpg000.edu/Desktop/Agente inteligente recuperación sensórica IoT/\"\n",
    "\n",
    "# ruta clases personalizadas\n",
    "import sys\n",
    "path_classes = f\"{path_root}classes\"\n",
    "sys.path.append(path_classes)\n",
    "\n",
    "## LIBRERIAS\n",
    "import pandas as pd\n",
    "from class_data import *\n",
    "from fun_models import *"
   ]
  },
  {
   "cell_type": "markdown",
   "metadata": {},
   "source": [
    "#### Cargar base de datos"
   ]
  },
  {
   "cell_type": "code",
   "execution_count": 2,
   "metadata": {},
   "outputs": [
    {
     "name": "stderr",
     "output_type": "stream",
     "text": [
      "100%|██████████| 88/88 [00:00<00:00, 255.53it/s]\n"
     ]
    },
    {
     "name": "stdout",
     "output_type": "stream",
     "text": [
      "Se han cargado 86 documentos.\n"
     ]
    },
    {
     "name": "stderr",
     "output_type": "stream",
     "text": [
      "100%|██████████| 86/86 [00:00<00:00, 9378.60it/s]\n"
     ]
    },
    {
     "name": "stdout",
     "output_type": "stream",
     "text": [
      "Se han generado 954 documentos de Langchain.\n",
      "    De ellos, 86 son el texto y 868 son resúmenes de tablas.\n",
      "Hay 7218 chunks de texto.\n"
     ]
    }
   ],
   "source": [
    "path_excel = f\"{path_root}datasets/database_items/item_list.xlsx\"\n",
    "path_saved_json = f\"{path_root}datasets/database_items/database_json/\"\n",
    "\n",
    "documentos = load_documents(path_excel, path_saved_json)\n",
    "documentos_langchain = load_documents_langchain(documentos)\n",
    "\n",
    "from langchain_text_splitters import RecursiveCharacterTextSplitter\n",
    "# Aplicamos el splitter de Langchain\n",
    "text_splitter = RecursiveCharacterTextSplitter(\n",
    "    chunk_size=300,\n",
    "    chunk_overlap=30,\n",
    "    length_function=len,\n",
    "    is_separator_regex=False,\n",
    ")\n",
    "\n",
    "# Dividimos cada texto en chunks\n",
    "chunks_texto = text_splitter.split_documents(documentos_langchain)\n",
    "print(f\"Hay {len(chunks_texto)} chunks de texto.\")"
   ]
  },
  {
   "cell_type": "markdown",
   "metadata": {},
   "source": [
    "#### Configurar Agente"
   ]
  },
  {
   "cell_type": "code",
   "execution_count": 3,
   "metadata": {},
   "outputs": [],
   "source": [
    "path_saved_vector = f\"{path_root}datasets/database_items/database_vectorial/\"\n",
    "name_database = \"large_esp\"\n",
    "modelo_llm = \"gpt-4o\"\n",
    "\n",
    "template_sistema = \"\"\" Eres un asistente de una empresa encargada de smart cities.\n",
    "Como preguntas, te van a adjuntar listas de requisitos de equipo para proyecto.\n",
    "Tu labor es responder con el nombre de los equipos que encuentres que cumplan los requisitos, así como suministrar la información de estos dispositivos en relación a los requisitos.\n",
    "Usa la información añadida en el contexto para responder a la pregunta pero no hagas referencias al mismo.\n",
    "Se añade como metadato tanto el proveedor como el nombre a los que pertenece el contexto devuelto.\n",
    "Responde únicamente con la especificación que se pide. Si no aparece di que no lo sabes.\n",
    "Pregunta: {question}\n",
    "Metadato: {metadata}\n",
    "Contexto: {contexts}\n",
    "La respuesta debe tener el siguiente formato:\n",
    "- Nombre del equipo y proveedor.\n",
    "- Especificaciones que se han preguntado y aparecen en el contexto.\n",
    "Respuesta:\n",
    "\"\"\"\n",
    "\n",
    "vectorstore = create_database(f\"{path_saved_vector}{name_database}\",\n",
    "                               chunks_texto, nombre_embedding = \"text-embedding-3-large\")\n",
    "retriever = create_retriever(vectorstore)\n",
    "rag = create_RAG(retriever=retriever,\n",
    "                plantilla_RAG=template_sistema,\n",
    "                model=modelo_llm)"
   ]
  },
  {
   "cell_type": "markdown",
   "metadata": {},
   "source": [
    "#### Interacción con el agente"
   ]
  },
  {
   "cell_type": "code",
   "execution_count": 4,
   "metadata": {},
   "outputs": [],
   "source": [
    "pregunta_ejemplo = \"\"\"Necesitamos un sensor de medición de ruido con las siguientes características: \n",
    "1. Sensor con precisión clase 1 según IEC 61672-1: \n",
    "o Detector: Nivel de presión sonora continuo equivalente y nivel de presión sonora con ponderación temporal rápida (Fast) y lenta (Slow). \n",
    "o Ponderación Frecuencial: A y C. \n",
    "o Funciones Acústicas Medidas: Niveles equivalentes con ponderación frecuencial A y C con tiempo programable entre 1s y 60min: LAeqT y LCeqT. Niveles máximos con ponderación temporal rápida y slow sobre un tiempo programable entre 1s y 60min y ponderación frecuencial A: LAFmaxT y LASmaxT. \n",
    "o Resolución 0,1 dB. \n",
    "o Precisión según IEC 61672-1: clase 1. \n",
    "o Margen de medición sin escalas: de 28 a 120 dBA. \n",
    "o Margen de linealidad a 1kHz : de 35 a 120 dBA. \n",
    "2. Protección contra agentes externos con kit de exterior: viento, lluvia, pájaros. Mantiene clase 1. Protección IP65. \n",
    "3. Capacidad de integración a una plataforma de monitorización de ruido, de código abierto o Propietarias. \n",
    "4. Dimensiones reducidas y fácil de instalar en farolas, luminarias, marquesinas, MUPIs, OPIs, vallas y postes publicitarios. \n",
    "5. Alimentación de energía, a través la red eléctrica, baterías externas, paneles solares o POE (Power Over Ethernet). \n",
    "6. Medición continua 24 horas/7 días a la semana. \n",
    "7. Red sin límite en el número de sensores. \n",
    "8. Comunicación por Ethernet RJ45, Wi-Fi, Modem. \n",
    "9. Configuración remota del sensor, sin necesidad de tener dirigirse hasta el lugar.\"\"\""
   ]
  },
  {
   "cell_type": "code",
   "execution_count": 13,
   "metadata": {},
   "outputs": [],
   "source": [
    "respuesta = rag.invoke(pregunta_ejemplo)"
   ]
  },
  {
   "cell_type": "code",
   "execution_count": 14,
   "metadata": {},
   "outputs": [
    {
     "data": {
      "text/plain": [
       "'- Nombre del equipo y proveedor: CESVA Clase 1 modelo TA120, CESVA.\\n- Especificaciones que se han preguntado y aparecen en el contexto:\\n  - Sensor con precisión clase 1 según IEC 61672-1.\\n  - Protección contra agentes externos con kit de exterior: viento, lluvia, pájaros. Mantiene clase 1. Protección IP65.\\n  - Completamente integrable en diferentes plataformas: Noise-Platform (CESVA), de código abierto como Sentilo.\\n  - Margen de medición sin escalas: de 28 a 120 dBA.\\n  - Margen de linealidad a 1kHz: de 35 a 120 dBA.\\n  - Red sin límite en el número de sensores.\\n  - Comunicación por Ethernet (RJ45), Wi-Fi, Módem.\\n  - Configuración remota del sensor.'"
      ]
     },
     "execution_count": 14,
     "metadata": {},
     "output_type": "execute_result"
    }
   ],
   "source": [
    "respuesta['answer']"
   ]
  },
  {
   "cell_type": "markdown",
   "metadata": {},
   "source": [
    "#### Interfaz gráfica"
   ]
  },
  {
   "cell_type": "code",
   "execution_count": 5,
   "metadata": {},
   "outputs": [
    {
     "name": "stdout",
     "output_type": "stream",
     "text": [
      "Running on local URL:  http://127.0.0.1:7860\n",
      "\n",
      "To create a public link, set `share=True` in `launch()`.\n"
     ]
    },
    {
     "data": {
      "text/html": [
       "<div><iframe src=\"http://127.0.0.1:7860/\" width=\"100%\" height=\"500\" allow=\"autoplay; camera; microphone; clipboard-read; clipboard-write;\" frameborder=\"0\" allowfullscreen></iframe></div>"
      ],
      "text/plain": [
       "<IPython.core.display.HTML object>"
      ]
     },
     "metadata": {},
     "output_type": "display_data"
    },
    {
     "data": {
      "text/plain": []
     },
     "execution_count": 5,
     "metadata": {},
     "output_type": "execute_result"
    }
   ],
   "source": [
    "import gradio as gr\n",
    "\n",
    "def predict(message, history):\n",
    "    response = rag.invoke(message)\n",
    "    return response['answer']\n",
    "\n",
    "gr.ChatInterface(predict).launch()"
   ]
  }
 ],
 "metadata": {
  "kernelspec": {
   "display_name": "Python 3",
   "language": "python",
   "name": "python3"
  },
  "language_info": {
   "codemirror_mode": {
    "name": "ipython",
    "version": 3
   },
   "file_extension": ".py",
   "mimetype": "text/x-python",
   "name": "python",
   "nbconvert_exporter": "python",
   "pygments_lexer": "ipython3",
   "version": "3.8.18"
  }
 },
 "nbformat": 4,
 "nbformat_minor": 2
}
